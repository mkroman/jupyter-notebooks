{
 "cells": [
  {
   "cell_type": "code",
   "execution_count": 1,
   "metadata": {},
   "outputs": [
    {
     "name": "stdout",
     "output_type": "stream",
     "text": [
      "Defaulting to user installation because normal site-packages is not writeable\n",
      "Requirement already satisfied: beautifulsoup4 in /home/mk/.local/lib/python3.7/site-packages (4.9.1)\n",
      "Requirement already satisfied: matplotlib in /home/mk/.local/lib/python3.7/site-packages (3.2.1)\n",
      "Requirement already satisfied: soupsieve>1.2 in /home/mk/.local/lib/python3.7/site-packages (from beautifulsoup4) (2.0.1)\n",
      "Requirement already satisfied: python-dateutil>=2.1 in /home/mk/.local/lib/python3.7/site-packages (from matplotlib) (2.8.0)\n",
      "Requirement already satisfied: numpy>=1.11 in /home/mk/.local/lib/python3.7/site-packages (from matplotlib) (1.18.4)\n",
      "Requirement already satisfied: kiwisolver>=1.0.1 in /home/mk/.local/lib/python3.7/site-packages (from matplotlib) (1.2.0)\n",
      "Requirement already satisfied: pyparsing!=2.0.4,!=2.1.2,!=2.1.6,>=2.0.1 in /home/mk/.local/lib/python3.7/site-packages (from matplotlib) (2.4.7)\n",
      "Requirement already satisfied: cycler>=0.10 in /home/mk/.local/lib/python3.7/site-packages (from matplotlib) (0.10.0)\n",
      "Requirement already satisfied: six>=1.5 in /usr/lib/python3/dist-packages (from python-dateutil>=2.1->matplotlib) (1.12.0)\n",
      "\u001b[33mWARNING: You are using pip version 20.2.3; however, version 20.2.4 is available.\n",
      "You should consider upgrading via the '/usr/bin/python3 -m pip install --upgrade pip' command.\u001b[0m\n"
     ]
    }
   ],
   "source": [
    "!pip3 install beautifulsoup4 matplotlib\n",
    "%matplotlib inline\n",
    "\n",
    "import matplotlib\n",
    "import numpy as np\n",
    "import matplotlib.pyplot as plt\n",
    "import urllib\n",
    "import re\n",
    "from bs4 import BeautifulSoup"
   ]
  },
  {
   "cell_type": "code",
   "execution_count": 6,
   "metadata": {},
   "outputs": [],
   "source": [
    "document = urllib.request.urlopen(\"https://www.cpubenchmark.net/multi_cpu.html\").read()\n",
    "soup = BeautifulSoup(document)"
   ]
  },
  {
   "cell_type": "code",
   "execution_count": 10,
   "metadata": {
    "scrolled": true
   },
   "outputs": [],
   "source": [
    "MIN_PASSMARK_SCORE = 22_000\n",
    "\n",
    "def parse_row(row):\n",
    "    # name, score, price = row.find_all(\"td\")\n",
    "    \n",
    "    if row.select(\"span.prdname\") == None:\n",
    "        print(row)\n",
    "    \n",
    "    name = row.find(\"span\", class_=\"prdname\").get_text().strip()\n",
    "    score = row.find(\"span\", class_=\"count\")\n",
    "    passmark = row.find(\"span\", class_=\"more_details\")\n",
    "    price = row.find(\"span\", class_=\"price-neww\").get_text().strip()\n",
    "    \n",
    "    if not score or score.get_text().strip() == \"NA\":\n",
    "        score = None\n",
    "    else:\n",
    "        score = score.get_text().strip()\n",
    "        score = float(score)\n",
    "        \n",
    "    if score:\n",
    "        onclick = passmark['onclick']\n",
    "        passmark = int(re.match(\"^pa?\\(event, '([\\d,]+)',\", onclick)[1].replace(\",\", \"\"))\n",
    "    else:\n",
    "        passmark = None\n",
    "        \n",
    "    return name, score, passmark, price"
   ]
  },
  {
   "cell_type": "code",
   "execution_count": 11,
   "metadata": {
    "scrolled": true
   },
   "outputs": [],
   "source": [
    "chart = soup.select(\"#value .chart ul.chartlist\")[0]\n",
    "rows = chart.select(\"li\")\n",
    "\n",
    "rows = map(parse_row, rows)\n",
    "\n",
    "# Filter out rows without a price/performance score\n",
    "rows = filter(lambda row: row[1] is not None, rows)\n",
    "# Sort by score\n",
    "rows = sorted(rows, key=lambda row: row[1] , reverse=True)\n",
    "# Filter out rows with a passmark score lower than MIN_PASSMARK_SCORE\n",
    "rows = list(filter(lambda row: row[2] > MIN_PASSMARK_SCORE, rows))"
   ]
  },
  {
   "cell_type": "code",
   "execution_count": 12,
   "metadata": {
    "scrolled": false
   },
   "outputs": [
    {
     "name": "stdout",
     "output_type": "stream",
     "text": [
      "[Quad CPU] Intel Xeon E5-4627 v2 @ 3.30GHz: 78.3 - 24681 ($315.36*)\n",
      "[Quad CPU] Intel Xeon E5-4650 v2 @ 2.40GHz: 68.2 - 26203 ($384.16*)\n",
      "[Dual CPU] Intel Xeon E5-2678 v3 @ 2.50GHz: 67.9 - 23074 ($340.00*)\n",
      "[Dual CPU] Intel Xeon E5-2670 v3 @ 2.30GHz: 67.8 - 23725 ($350.00)\n",
      "[Quad CPU] Intel Xeon E7-8880 v2 @ 2.50GHz: 65.1 - 28569 ($438.56*)\n",
      "[Dual CPU] Intel Xeon E5-2680 v3 @ 2.50GHz: 46.4 - 24807 ($535.16)\n",
      "[Dual CPU] Intel Xeon E5-2690 v3 @ 2.60GHz: 45.5 - 26279 ($578.00)\n",
      "[8-Way] Intel Xeon E7-8880 v2 @ 2.50GHz: 39.8 - 34923 ($877.12*)\n",
      "[Dual CPU] Intel Xeon E5-2683 v3 @ 2.00GHz: 35.4 - 24007 ($678.00)\n",
      "[Dual CPU] AMD EPYC 7272: 32.3 - 44270 ($1,369.72)\n",
      "[Dual CPU] Intel Xeon E5-2660 v3 @ 2.60GHz: 29.6 - 22403 ($755.88)\n",
      "[Dual CPU] Intel Xeon E5-2690 v4 @ 2.60GHz: 25.8 - 27563 ($1,069.44*)\n",
      "[Dual CPU] AMD EPYC 7262: 25.6 - 34227 ($1,336.22*)\n",
      "[Dual CPU] Intel Xeon E5-2683 v4 @ 2.10GHz: 24.7 - 24666 ($998.00*)\n",
      "[Dual CPU] Intel Xeon E5-2690 v2 @ 3.00GHz: 24.6 - 22110 ($899.90)\n",
      "[Dual CPU] Intel Xeon E5-2680 v4 @ 2.40GHz: 24.1 - 28903 ($1,197.98)\n",
      "[Dual CPU] Intel Xeon E5-2697 v3 @ 2.60GHz: 23.0 - 30323 ($1,319.98)\n",
      "[Dual CPU] Intel Xeon Silver 4210 @ 2.20GHz: 21.8 - 22264 ($1,021.68)\n",
      "[Dual CPU] Intel Xeon Silver 4214 @ 2.20GHz: 19.0 - 25361 ($1,337.90)\n",
      "[Dual CPU] AMD EPYC 7302: 18.8 - 40162 ($2,130.66)\n",
      "[Dual CPU] Intel Xeon E5-2699 v3 @ 2.30GHz: 17.0 - 31439 ($1,845.36*)\n",
      "[Dual CPU] Intel Xeon E5-2673 v3 @ 2.40GHz: 16.2 - 22726 ($1,400.00*)\n",
      "[Dual CPU] AMD EPYC 7402: 15.8 - 62799 ($3,969.98)\n",
      "[Dual CPU] Intel Xeon Silver 4216 @ 2.10GHz: 14.3 - 26171 ($1,830.80)\n",
      "[Dual CPU] Intel Xeon Silver 4215R @ 3.20GHz: 14.2 - 24088 ($1,690.44)\n",
      "[Dual CPU] AMD EPYC 7401: 14.0 - 23519 ($1,679.50)\n",
      "[Dual CPU] Intel Xeon E5-2660 v4 @ 2.00GHz: 13.6 - 23105 ($1,700.00*)\n",
      "[Dual CPU] Intel Xeon Gold 5218 @ 2.30GHz: 12.5 - 29963 ($2,403.08)\n",
      "[Dual CPU] AMD EPYC 7351: 12.5 - 25430 ($2,030.00)\n",
      "[Dual CPU] Intel Xeon Gold 6240 @ 2.60GHz: 12.3 - 43292 ($3,512.74)\n",
      "[Dual CPU] Intel Xeon E5-2699 v4 @ 2.20GHz: 11.9 - 39880 ($3,360.04)\n",
      "[Dual CPU] Intel Xeon Silver 4116 @ 2.10GHz: 11.8 - 24641 ($2,086.94)\n",
      "[Dual CPU] Intel Xeon E5-2650 v4 @ 2.20GHz: 11.6 - 23085 ($1,998.00*)\n",
      "[Dual CPU] Intel Xeon Gold 6240R @ 2.40GHz: 10.3 - 54024 ($5,239.90*)\n",
      "[Dual CPU] AMD EPYC 7552: 10.2 - 91019 ($8,917.14)\n",
      "[Dual CPU] Intel Xeon Gold 6230 @ 2.10GHz: 10.1 - 40271 ($3,994.52)\n",
      "[Dual CPU] Intel Xeon Gold 5218T @ 2.10GHz: 10.1 - 27356 ($2,698.00*)\n",
      "[Dual CPU] Intel Xeon Gold 5115 @ 2.40GHz: 10.0 - 22011 ($2,198.00*)\n",
      "[Dual CPU] AMD EPYC 7551: 9.6 - 31452 ($3,285.78)\n",
      "[Dual CPU] AMD EPYC 7542: 9.5 - 69618 ($7,365.98)\n",
      "[Dual CPU] Intel Xeon Gold 5220 @ 2.20GHz: 9.5 - 31304 ($3,279.90)\n",
      "[Dual CPU] Intel Xeon Gold 6126 @ 2.60GHz: 9.3 - 28611 ($3,079.90*)\n",
      "[Dual CPU] Intel Xeon Gold 5118 @ 2.30GHz: 9.2 - 23967 ($2,598.00)\n",
      "[Dual CPU] Intel Xeon Gold 5215 @ 2.50GHz: 8.8 - 22537 ($2,560.00*)\n",
      "[Dual CPU] Intel Xeon Gold 6226 @ 2.70GHz: 8.5 - 30206 ($3,552.00*)\n",
      "[Dual CPU] AMD EPYC 7702: 8.1 - 87034 ($10,700.00)\n",
      "[Dual CPU] Intel Xeon Gold 6258R @ 2.70GHz: 8.1 - 64315 ($7,900.00*)\n",
      "[Dual CPU] Intel Xeon Gold 5120 @ 2.20GHz: 8.0 - 25109 ($3,122.00*)\n",
      "[Dual CPU] Intel Xeon Gold 6130 @ 2.10GHz: 7.3 - 26367 ($3,627.90)\n",
      "[Dual CPU] Intel Xeon Gold 6254 @ 3.10GHz: 7.0 - 50901 ($7,239.90*)\n",
      "[Dual CPU] Intel Xeon Gold 6148 @ 2.40GHz: 7.0 - 45223 ($6,435.98)\n",
      "[Dual CPU] Intel Xeon Gold 5217 @ 3.00GHz: 7.0 - 23368 ($3,322.38*)\n",
      "[Dual CPU] Intel Xeon E5-2673 v4 @ 2.30GHz: 6.8 - 26538 ($3,900.00*)\n",
      "[Dual CPU] Intel Xeon E5-2695 v3 @ 2.30GHz: 6.7 - 26750 ($3,999.98)\n",
      "[Dual CPU] Intel Xeon Gold 6128 @ 3.40GHz: 6.6 - 22725 ($3,439.98)\n",
      "[Dual CPU] Intel Xeon Gold 6132 @ 2.60GHz: 6.4 - 27522 ($4,284.00*)\n",
      "[Dual CPU] Intel Xeon Gold 6138 @ 2.00GHz: 6.3 - 33941 ($5,359.98)\n",
      "[Dual CPU] Intel Xeon E5-2687W v4 @ 3.00GHz: 6.2 - 27062 ($4,349.98*)\n",
      "[Dual CPU] Intel Xeon E5-2697 v2 @ 2.70GHz: 6.2 - 24572 ($3,979.90)\n",
      "[Dual CPU] Intel Xeon E5-2696 v3 @ 2.30GHz: 6.1 - 30580 ($4,996.00*)\n",
      "[Dual CPU] Intel Xeon Gold 6256 @ 3.60GHz: 6.0 - 46454 ($7,800.00*)\n",
      "[Dual CPU] Intel Xeon Gold 6154 @ 3.00GHz: 6.0 - 44128 ($7,319.64*)\n",
      "[Dual CPU] Intel Xeon Gold 6136 @ 3.00GHz: 6.0 - 31803 ($5,309.64*)\n",
      "[Dual CPU] Intel Xeon Gold 6242 @ 2.80GHz: 6.0 - 30110 ($4,979.90*)\n",
      "[Dual CPU] Intel Xeon Gold 6134 @ 3.20GHz: 6.0 - 26769 ($4,459.90)\n",
      "[Dual CPU] Intel Xeon Gold 6234 @ 3.30GHz: 5.9 - 27643 ($4,691.46*)\n",
      "[Dual CPU] Intel Xeon Gold 6248 @ 2.50GHz: 5.8 - 38756 ($6,649.98)\n",
      "[Dual CPU] Intel Xeon E5-2697 v4 @ 2.30GHz: 5.8 - 30009 ($5,190.00)\n",
      "[Dual CPU] Intel Xeon Gold 6140 @ 2.30GHz: 5.7 - 32762 ($5,727.50)\n",
      "[Dual CPU] Intel Xeon E5-2695 v4 @ 2.10GHz: 5.7 - 26593 ($4,679.90)\n",
      "[Dual CPU] AMD EPYC 7451: 5.6 - 28958 ($5,166.00)\n",
      "[Dual CPU] AMD EPYC 7742: 5.5 - 75756 ($13,700.00)\n",
      "[Dual CPU] Intel Xeon E5-2679 v4 @ 2.50GHz: 5.5 - 29935 ($5,404.00*)\n",
      "[Dual CPU] Intel Xeon Gold 6244 @ 3.60GHz: 5.4 - 32042 ($5,940.00*)\n",
      "[Dual CPU] Intel Xeon Gold 6152 @ 2.10GHz: 5.3 - 43617 ($8,217.90*)\n",
      "[Quad CPU] Intel Xeon Gold 5122 @ 3.60GHz: 5.3 - 26140 ($4,919.04)\n",
      "[Dual CPU] Intel Xeon Platinum 8260 @ 2.40GHz: 5.2 - 48091 ($9,220.00*)\n",
      "[Dual CPU] Intel Xeon Gold 6142 @ 2.60GHz: 5.2 - 28849 ($5,597.90)\n",
      "[Dual CPU] Intel Xeon Gold 6246 @ 3.30GHz: 5.1 - 33742 ($6,630.98*)\n",
      "[Dual CPU] Intel Xeon E5-2667 v4 @ 3.20GHz: 5.1 - 22665 ($4,422.00)\n",
      "[Dual CPU] Intel Xeon Gold 6150 @ 2.70GHz: 5.0 - 32942 ($6,569.90*)\n",
      "[Dual CPU] Intel Xeon E5-2696 v4 @ 2.20GHz: 5.0 - 31622 ($6,358.00*)\n",
      "[Dual CPU] Intel Xeon E5-2699A v4 @ 2.40GHz: 4.8 - 47699 ($9,876.00*)\n",
      "[Dual CPU] Intel Xeon E5-2698 v4 @ 2.10GHz: 4.8 - 30833 ($6,452.00*)\n",
      "[Dual CPU] AMD EPYC 7601: 4.7 - 54720 ($11,662.00)\n",
      "[Dual CPU] AMD EPYC 7501: 4.7 - 28991 ($6,132.68)\n",
      "[Dual CPU] Intel Xeon Gold 6252 @ 2.10GHz: 4.6 - 37405 ($8,081.98)\n",
      "[Dual CPU] Intel Xeon Gold 6144 @ 3.50GHz: 4.5 - 28387 ($6,362.34*)\n",
      "[Dual CPU] Intel Xeon E5-2698 v4 @ 2.20GHz: 4.4 - 32235 ($7,259.18*)\n",
      "[Dual CPU] Intel Xeon Platinum 8160 @ 2.10GHz: 4.3 - 38365 ($8,978.00*)\n",
      "[Dual CPU] Intel Xeon E5-2698 v3 @ 2.30GHz: 4.2 - 28704 ($6,811.90)\n",
      "[Dual CPU] Intel Xeon Platinum 8168 @ 2.70GHz: 4.0 - 47160 ($11,780.00*)\n",
      "[Dual CPU] Intel Xeon E5-2687W v3 @ 3.10GHz: 4.0 - 24244 ($5,997.90*)\n",
      "[Quad CPU] Intel Xeon Gold 6140 @ 2.30GHz: 3.8 - 43682 ($11,455.00)\n",
      "[Dual CPU] Intel Xeon Platinum 8253 @ 2.20GHz: 3.8 - 23557 ($6,230.00*)\n",
      "[Dual CPU] Intel Xeon Platinum 8260M @ 2.30GHz: 3.6 - 55297 ($15,410.00*)\n",
      "[Dual CPU] Intel Xeon Platinum 8268 @ 2.90GHz: 3.4 - 41119 ($12,011.96*)\n",
      "[Dual CPU] Intel Xeon Gold 6146 @ 3.20GHz: 3.2 - 29656 ($9,217.90*)\n",
      "[Quad CPU] Intel Xeon Gold 6248 @ 2.50GHz: 3.1 - 41863 ($13,299.96)\n",
      "[Dual CPU] Intel Xeon Platinum 8280 @ 2.70GHz: 3.0 - 59204 ($19,898.00*)\n",
      "[Dual CPU] Intel Xeon Platinum 8160T @ 2.10GHz: 3.0 - 29251 ($9,872.00*)\n",
      "[Dual CPU] Intel Xeon Platinum 8180 @ 2.50GHz: 2.7 - 37312 ($13,990.00)\n",
      "[Quad CPU] Intel Xeon Gold 6152 @ 2.10GHz: 2.5 - 40786 ($16,435.80*)\n",
      "[Dual CPU] Intel Xeon Platinum 8160M @ 2.10GHz: 2.5 - 37838 ($15,408.00*)\n",
      "[Dual CPU] Intel Xeon E5-4669 v3 @ 2.10GHz: 2.5 - 27457 ($10,800.00*)\n",
      "[Dual CPU] Intel Xeon E5-4660 v3 @ 2.10GHz: 2.3 - 22461 ($9,600.00*)\n",
      "[Quad CPU] Intel Xeon E5-4660 v4 @ 2.20GHz: 2.1 - 30855 ($14,436.00*)\n",
      "[Quad CPU] Intel Xeon E7-8867 v3 @ 2.50GHz: 2.0 - 36908 ($18,688.00*)\n",
      "[Dual CPU] Intel Xeon E7-4890 v2 @ 2.80GHz: 1.8 - 22413 ($12,400.00*)\n",
      "[Quad CPU] Intel Xeon Platinum 8180 @ 2.50GHz: 1.6 - 44140 ($27,980.00)\n",
      "[Quad CPU] Intel Xeon E7-4890 v2 @ 2.80GHz: 1.2 - 30856 ($24,800.00*)\n"
     ]
    }
   ],
   "source": [
    "for name, score, passmark, price in rows:\n",
    "    print(\"{}: {} - {} ({})\".format(name, score, passmark, price))"
   ]
  },
  {
   "cell_type": "code",
   "execution_count": null,
   "metadata": {},
   "outputs": [],
   "source": []
  }
 ],
 "metadata": {
  "kernelspec": {
   "display_name": "Python 3",
   "language": "python",
   "name": "python3"
  },
  "language_info": {
   "codemirror_mode": {
    "name": "ipython",
    "version": 3
   },
   "file_extension": ".py",
   "mimetype": "text/x-python",
   "name": "python",
   "nbconvert_exporter": "python",
   "pygments_lexer": "ipython3",
   "version": "3.7.3"
  }
 },
 "nbformat": 4,
 "nbformat_minor": 2
}
